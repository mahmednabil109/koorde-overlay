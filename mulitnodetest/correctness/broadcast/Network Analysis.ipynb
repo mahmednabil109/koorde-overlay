{
 "cells": [
  {
   "cell_type": "code",
   "execution_count": 1,
   "id": "e9fe0536",
   "metadata": {},
   "outputs": [],
   "source": [
    "import pandas as pd\n",
    "import matplotlib.pyplot as plt\n",
    "import seaborn as sns"
   ]
  },
  {
   "cell_type": "code",
   "execution_count": 2,
   "id": "6c5b2f76",
   "metadata": {},
   "outputs": [
    {
     "name": "stdout",
     "output_type": "stream",
     "text": [
      "[(12.5, 0.0, 12.5), (6.25, 0.0, 6.25), (3.125, 0.0, 3.125), (1.5625, 0.0, 1.5625), (0.78125, 0.0, 0.78125), (0.390625, 0.0, 0.390625)]\n"
     ]
    }
   ],
   "source": [
    "import re, os\n",
    "from pathlib import Path\n",
    "\n",
    "files = list(Path('.').glob('data*.csv'))\n",
    "load_data = []\n",
    "\n",
    "for i,f in enumerate(files):\n",
    "    df = pd.read_csv(f.name)\n",
    "    load_data.append(\n",
    "        (\n",
    "            df['Broadcast Messages'].mean(), # avg\n",
    "            df['Broadcast Messages'].std(),  # std\n",
    "            df['Broadcast Messages'].sum(),  # total\n",
    "            1/(1<<(i+3)) * 100            # ideal percent\n",
    "        )\n",
    "    )\n",
    "\n",
    "# make them percentages\n",
    "load_data = list(map(lambda t: (t[0]/t[2]*100, t[1]/t[2]*100, t[3]), load_data))\n",
    "\n",
    "print(load_data)"
   ]
  },
  {
   "cell_type": "code",
   "execution_count": 13,
   "id": "9111a07a",
   "metadata": {},
   "outputs": [
    {
     "data": {
      "text/html": [
       "<div>\n",
       "<style scoped>\n",
       "    .dataframe tbody tr th:only-of-type {\n",
       "        vertical-align: middle;\n",
       "    }\n",
       "\n",
       "    .dataframe tbody tr th {\n",
       "        vertical-align: top;\n",
       "    }\n",
       "\n",
       "    .dataframe thead th {\n",
       "        text-align: right;\n",
       "    }\n",
       "</style>\n",
       "<table border=\"1\" class=\"dataframe\">\n",
       "  <thead>\n",
       "    <tr style=\"text-align: right;\">\n",
       "      <th></th>\n",
       "      <th>Node Num</th>\n",
       "      <th>hit rate</th>\n",
       "    </tr>\n",
       "  </thead>\n",
       "  <tbody>\n",
       "    <tr>\n",
       "      <th>0</th>\n",
       "      <td>8</td>\n",
       "      <td>100.0</td>\n",
       "    </tr>\n",
       "    <tr>\n",
       "      <th>1</th>\n",
       "      <td>16</td>\n",
       "      <td>100.0</td>\n",
       "    </tr>\n",
       "    <tr>\n",
       "      <th>2</th>\n",
       "      <td>32</td>\n",
       "      <td>100.0</td>\n",
       "    </tr>\n",
       "    <tr>\n",
       "      <th>3</th>\n",
       "      <td>64</td>\n",
       "      <td>100.0</td>\n",
       "    </tr>\n",
       "    <tr>\n",
       "      <th>4</th>\n",
       "      <td>128</td>\n",
       "      <td>100.0</td>\n",
       "    </tr>\n",
       "    <tr>\n",
       "      <th>5</th>\n",
       "      <td>256</td>\n",
       "      <td>100.0</td>\n",
       "    </tr>\n",
       "  </tbody>\n",
       "</table>\n",
       "</div>"
      ],
      "text/plain": [
       "   Node Num  hit rate\n",
       "0         8     100.0\n",
       "1        16     100.0\n",
       "2        32     100.0\n",
       "3        64     100.0\n",
       "4       128     100.0\n",
       "5       256     100.0"
      ]
     },
     "execution_count": 13,
     "metadata": {},
     "output_type": "execute_result"
    }
   ],
   "source": [
    "log_files = list(Path('.').glob('log_out_*.log'))\n",
    "broad_data = []\n",
    "\n",
    "for i,f in enumerate(log_files):\n",
    "    text = f.read_text()\n",
    "    hits = len(re.findall(r'true', text))\n",
    "    miss = len(re.findall(r'false', text))\n",
    "    broad_data.append([1 << (i+3), hits/(1 << (i+3)) * 100])\n",
    "\n",
    "broad_df = pd.DataFrame(broad_data, columns=['Node Num', 'hit rate'])\n",
    "broad_df"
   ]
  },
  {
   "cell_type": "code",
   "execution_count": 17,
   "id": "65ec94ab",
   "metadata": {},
   "outputs": [
    {
     "data": {
      "image/png": "[encoded data removed]",
      "text/plain": [
       "<Figure size 864x504 with 1 Axes>"
      ]
     },
     "metadata": {},
     "output_type": "display_data"
    }
   ],
   "source": [
    "plt.figure(figsize=(12,7))\n",
    "sns.set(font_scale = 1.3)\n",
    "\n",
    "sns.set_style(\"whitegrid\")\n",
    "p = sns.barplot(x=broad_df['Node Num'], y=broad_df['hit rate'])\n",
    "p.set(xlabel=\"Number of Nodes\", ylabel=\"Broadcast Success Rate\")\n",
    "\n",
    "plt.show()"
   ]
  },
  {
   "cell_type": "code",
   "execution_count": null,
   "id": "ca9dcb5d",
   "metadata": {},
   "outputs": [],
   "source": []
  }
 ],
 "metadata": {
  "kernelspec": {
   "display_name": "Python 3 (ipykernel)",
   "language": "python",
   "name": "python3"
  },
  "language_info": {
   "codemirror_mode": {
    "name": "ipython",
    "version": 3
   },
   "file_extension": ".py",
   "mimetype": "text/x-python",
   "name": "python",
   "nbconvert_exporter": "python",
   "pygments_lexer": "ipython3",
   "version": "3.10.4"
  }
 },
 "nbformat": 4,
 "nbformat_minor": 5
}
